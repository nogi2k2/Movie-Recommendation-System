{
 "cells": [
  {
   "cell_type": "code",
   "execution_count": null,
   "id": "7deda0fe",
   "metadata": {},
   "outputs": [],
   "source": [
    "import numpy as np\n",
    "import pandas as pd\n",
    "import warnings\n",
    "import ast\n",
    "import pickle\n",
    "\n",
    "from sklearn.feature_extraction.text import CountVectorizer\n",
    "from sklearn.metrics.pairwise import cosine_similarity\n",
    "\n",
    "warnings.filterwarnings(\"ignore\")\n",
    "%matplotlib inline"
   ]
  },
  {
   "cell_type": "code",
   "execution_count": null,
   "id": "f95a020c",
   "metadata": {},
   "outputs": [],
   "source": [
    "movies=pd.read_csv('tmdb_5000_movies.csv')\n",
    "credits=pd.read_csv('tmdb_5000_credits.csv')\n",
    "pd.set_option('display.max.columns', None)"
   ]
  },
  {
   "cell_type": "code",
   "execution_count": null,
   "id": "193f2a47",
   "metadata": {},
   "outputs": [],
   "source": [
    "movies = movies.merge(credits, on='title')\n",
    "movies = movies[['movie_id', 'title', 'overview', 'genres', 'keywords', 'cast', 'crew']]\n",
    "movies.head()"
   ]
  },
  {
   "cell_type": "code",
   "execution_count": null,
   "id": "b16a114d",
   "metadata": {},
   "outputs": [],
   "source": [
    "def preprocess_genres_keywords(text):\n",
    "    l=[]\n",
    "    for i in ast.literal_eval(text):\n",
    "        l.append(i['name'])\n",
    "    return l\n",
    "\n",
    "def preprocess_cast(text):\n",
    "    l=[]\n",
    "    ct=0\n",
    "    for i in ast.literal_eval(text):\n",
    "        if ct<3:\n",
    "            l.append(i['name'])\n",
    "        ct+=1\n",
    "    return l\n",
    "\n",
    "def preprocess_crew(text):\n",
    "    l=[]\n",
    "    for i in ast.literal_eval(text):\n",
    "        if i['job'] == 'director':\n",
    "            l.append(i['name'])\n",
    "    return l\n",
    "\n",
    "def preprocess_collapse(lst):\n",
    "    l=[]\n",
    "    for i in lst:\n",
    "        l.append(i.replace(\" \", \"\"))\n",
    "    return l"
   ]
  },
  {
   "cell_type": "code",
   "execution_count": null,
   "id": "1916e42c",
   "metadata": {},
   "outputs": [],
   "source": [
    "movies[genres] = movies[genres].apply(preprocess_genres_keywords)\n",
    "movies[keywords] = movies[keywords].apply(preprocess_genres_keywords)\n",
    "movies[cast] = movies[cast].apply(preprocess_cast)\n",
    "movies[crew] = movies[crew].apply(preprocess_crew)\n",
    "\n",
    "movies[genres] = movies[genres].apply(preprocess_collapse)\n",
    "movies[keywords] = movies[keywords].apply(preprocess_collapse)\n",
    "movies[cast] = movies[cast].apply(preprocess_collapse)\n",
    "movies[crew] = movies[crew].apply(preprocess_collapse)\n",
    "\n",
    "movies.head()"
   ]
  },
  {
   "cell_type": "code",
   "execution_count": null,
   "id": "87ea0828",
   "metadata": {},
   "outputs": [],
   "source": [
    "movies['overview'] = movies['overview'].apply(lambda x: x.split()) \n",
    "movies['tags'] = movies['overview'] + movies['genres'] + movies['keywords'] + movies['cast'] + movies['crew']\n",
    "custom_df = movies.drop(columns=['overview', 'genres', 'keywords', 'cast', 'crew'])\n",
    "custom_df['tags'] = custom_df['tags'].apply(lambda x: \" \".join(x))\n",
    "\n",
    "custom_df.head()"
   ]
  },
  {
   "cell_type": "code",
   "execution_count": null,
   "id": "25da7688",
   "metadata": {},
   "outputs": [],
   "source": [
    "cv = CountVectorizer()\n",
    "bow = cv.fit_transform(max_features=5000, stop_words=\"english\")\n",
    "cos_sim = cosine_similarity(bow)"
   ]
  },
  {
   "cell_type": "code",
   "execution_count": null,
   "id": "42d3a3da",
   "metadata": {},
   "outputs": [],
   "source": [
    "def recommend(movie_name):\n",
    "    movie_index = custom_df[custom_df['title']==movie_name].index[0]\n",
    "    similarity = sorted(enumerate(cos_sim[movie_index]), reverse=True, key = (lambda x: x[1]))\n",
    "    for i in similarity[1:6]:\n",
    "        print(custom_df.iloc[i[0]].title)\n",
    "    return "
   ]
  },
  {
   "cell_type": "code",
   "execution_count": null,
   "id": "8cbf13c1",
   "metadata": {},
   "outputs": [],
   "source": [
    "pickle.dump(custom_df, open('movie_list.pkl','wb'))\n",
    "pickle.dump(cos_sim, open('similarity.pkl','wb'))"
   ]
  }
 ],
 "metadata": {
  "kernelspec": {
   "display_name": "Python 3",
   "language": "python",
   "name": "python3"
  },
  "language_info": {
   "codemirror_mode": {
    "name": "ipython",
    "version": 3
   },
   "file_extension": ".py",
   "mimetype": "text/x-python",
   "name": "python",
   "nbconvert_exporter": "python",
   "pygments_lexer": "ipython3",
   "version": "3.9.4"
  }
 },
 "nbformat": 4,
 "nbformat_minor": 5
}
